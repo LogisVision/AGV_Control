{
 "cells": [
  {
   "cell_type": "code",
   "execution_count": 12,
   "metadata": {},
   "outputs": [
    {
     "data": {
      "text/plain": [
       "0"
      ]
     },
     "execution_count": 12,
     "metadata": {},
     "output_type": "execute_result"
    }
   ],
   "source": [
    "import cv2\n",
    "import paho.mqtt.client as mqtt\n",
    "import numpy as np\n",
    "import time\n",
    "\n",
    "# MQTT 설정\n",
    "#broker_address = \"192.168.14.128\"\n",
    "broker_address =\"70.12.225.174\"\n",
    "port = 1883\n",
    "topic = \"AGV/camera\"\n",
    "\n",
    "# MQTT 클라이언트 초기화 및 연결\n",
    "client = mqtt.Client()\n",
    "client.connect(broker_address, port)"
   ]
  },
  {
   "cell_type": "code",
   "execution_count": 13,
   "metadata": {},
   "outputs": [],
   "source": [
    "gst_str = (\n",
    "    \"nvarguscamerasrc ! video/x-raw(memory:NVMM), width=(int)640, height=(int)480, \"\n",
    "    \"format=(string)NV12, framerate=(fraction)30/1 ! nvvidconv ! video/x-raw, \"\n",
    "    \"format=(string)BGRx ! videoconvert ! video/x-raw, format=(string)BGR ! appsink\"\n",
    ")"
   ]
  },
  {
   "cell_type": "code",
   "execution_count": 14,
   "metadata": {},
   "outputs": [],
   "source": [
    "# 카메라 초기화\n",
    "#cap = cv2.VideoCapture(0)\n",
    "cap = cv2.VideoCapture(gst_str, cv2.CAP_GSTREAMER)"
   ]
  },
  {
   "cell_type": "code",
   "execution_count": 15,
   "metadata": {},
   "outputs": [],
   "source": [
    "def send_frame():\n",
    "    while cap.isOpened():\n",
    "        ret, frame = cap.read()\n",
    "        if not ret:\n",
    "            break\n",
    "        #resized_frame = cv2.resize(frame, (640, 480))\n",
    "        # 이미지를 JPEG로 인코딩\n",
    "        _, buffer = cv2.imencode('.jpg', frame, [int(cv2.IMWRITE_JPEG_QUALITY), 50])\n",
    "        \n",
    "        with open(\"testimg.jpg\", \"wb\")as f:\n",
    "            f.write(buffer.tobytes())\n",
    "        # MQTT로 이미지 전송\n",
    "        jpg_as_text = buffer.tobytes()\n",
    "        client.publish(topic, jpg_as_text)\n",
    "        #time.sleep(0.1)  # 전송 간격 (초 단위)\n",
    "        #print(\"pub\")\n",
    "        #print(len(buffer))"
   ]
  },
  {
   "cell_type": "code",
   "execution_count": null,
   "metadata": {},
   "outputs": [],
   "source": [
    "try:\n",
    "    send_frame()\n",
    "except KeyboardInterrupt:\n",
    "    cap.release()\n",
    "    client.disconnect()"
   ]
  },
  {
   "cell_type": "code",
   "execution_count": 20,
   "metadata": {},
   "outputs": [],
   "source": [
    "send_frame()"
   ]
  },
  {
   "cell_type": "code",
   "execution_count": null,
   "metadata": {},
   "outputs": [],
   "source": []
  },
  {
   "cell_type": "code",
   "execution_count": null,
   "metadata": {},
   "outputs": [],
   "source": []
  },
  {
   "cell_type": "code",
   "execution_count": null,
   "metadata": {},
   "outputs": [],
   "source": []
  }
 ],
 "metadata": {
  "kernelspec": {
   "display_name": "Python 3",
   "language": "python",
   "name": "python3"
  },
  "language_info": {
   "codemirror_mode": {
    "name": "ipython",
    "version": 3
   },
   "file_extension": ".py",
   "mimetype": "text/x-python",
   "name": "python",
   "nbconvert_exporter": "python",
   "pygments_lexer": "ipython3",
   "version": "3.6.9"
  }
 },
 "nbformat": 4,
 "nbformat_minor": 4
}
