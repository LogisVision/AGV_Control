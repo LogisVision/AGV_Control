{
 "cells": [
  {
   "cell_type": "code",
   "execution_count": 1,
   "metadata": {},
   "outputs": [],
   "source": [
    "import traitlets\n",
    "import ipywidgets.widgets as widgets\n",
    "from IPython.display import display\n",
    "from jetbot import Camera, bgr8_to_jpeg"
   ]
  },
  {
   "cell_type": "code",
   "execution_count": 2,
   "metadata": {},
   "outputs": [
    {
     "name": "stdout",
     "output_type": "stream",
     "text": [
      "Succeeded to open the port\n",
      "Succeeded to change the baudrate\n"
     ]
    }
   ],
   "source": [
    "from SCSCtrl import TTLServo\n",
    "from jetbot import Robot\n",
    "import time"
   ]
  },
  {
   "cell_type": "code",
   "execution_count": 3,
   "metadata": {},
   "outputs": [
    {
     "data": {
      "application/vnd.jupyter.widget-view+json": {
       "model_id": "2c349e9c30fc49769d9cad65026086c4",
       "version_major": 2,
       "version_minor": 0
      },
      "text/plain": [
       "Image(value=b'\\xff\\xd8\\xff\\xe0\\x00\\x10JFIF\\x00\\x01\\x01\\x00\\x00\\x01\\x00\\x01\\x00\\x00\\xff\\xdb\\x00C\\x00\\x02\\x01\\x0…"
      ]
     },
     "metadata": {},
     "output_type": "display_data"
    }
   ],
   "source": [
    "# camera setting\n",
    "camera = Camera.instance(width=300, height=300)\n",
    "image = widgets.Image(format='jpeg', width=300, height=300)\n",
    "camera_link = traitlets.dlink((camera, 'value'), (image, 'value'), transform=bgr8_to_jpeg)\n",
    "display(image)"
   ]
  },
  {
   "cell_type": "code",
   "execution_count": 4,
   "metadata": {},
   "outputs": [],
   "source": [
    "idx_servo_hori = 1\n",
    "idx_servo_vert1 = 2\n",
    "idx_servo_vert2 = 3\n",
    "idx_servo_grip = 4\n",
    "idx_servo_camera = 5\n",
    "speed_motor = 150"
   ]
  },
  {
   "cell_type": "code",
   "execution_count": 5,
   "metadata": {},
   "outputs": [],
   "source": [
    "dir = -1"
   ]
  },
  {
   "cell_type": "code",
   "execution_count": 6,
   "metadata": {},
   "outputs": [],
   "source": [
    "degree_camera = 0\n",
    "degree_hori = 0\n",
    "degree_vert1 = 0\n",
    "degree_vert2 = 0\n",
    "degree_grip = 0"
   ]
  },
  {
   "cell_type": "code",
   "execution_count": 21,
   "metadata": {},
   "outputs": [],
   "source": [
    "degree_motor = 5"
   ]
  },
  {
   "cell_type": "code",
   "execution_count": 34,
   "metadata": {},
   "outputs": [],
   "source": [
    "degree_slider = widgets.IntSlider(description='degree', value = degree_motor, min=0, max=30, step=1, orientation='horizontal', continuous_update=False)"
   ]
  },
  {
   "cell_type": "code",
   "execution_count": 40,
   "metadata": {},
   "outputs": [],
   "source": [
    "def update_degree(change):\n",
    "    global degree_motor\n",
    "    degree_motor = change.new\n",
    "    print(f'Updated value: {degree_motor}')  # 변수 값 업데이트 시 출력\n",
    "\n",
    "degree_slider.observe(update_degree, names='value')"
   ]
  },
  {
   "cell_type": "code",
   "execution_count": 42,
   "metadata": {},
   "outputs": [
    {
     "name": "stdout",
     "output_type": "stream",
     "text": [
      "12\n"
     ]
    }
   ],
   "source": [
    "print(degree_motor)"
   ]
  },
  {
   "cell_type": "code",
   "execution_count": 8,
   "metadata": {},
   "outputs": [],
   "source": [
    "def check_in_range(degree):\n",
    "    if degree > 150:\n",
    "        return 150\n",
    "    if degree < -150:\n",
    "        return -150\n",
    "    return degree"
   ]
  },
  {
   "cell_type": "code",
   "execution_count": 73,
   "metadata": {},
   "outputs": [],
   "source": [
    "def control_horizontal(degree):\n",
    "    global idx_servo_hori, speed_motor\n",
    "    global degree_hori, dir\n",
    "    degree_hori = check_in_range(degree + degree_hori)\n",
    "    TTLServo.servoAngleCtrl(idx_servo_hori, degree_hori, dir, speed_motor)\n",
    "\n",
    "def control_vertical1(degree):\n",
    "    global idx_servo_vert1, speed_motor\n",
    "    global degree_vert1, dir\n",
    "    degree_vert1 = check_in_range(degree + degree_vert1)\n",
    "    TTLServo.servoAngleCtrl(idx_servo_vert1, degree_vert1, dir, speed_motor)\n",
    "    \n",
    "def control_vertical2(degree):\n",
    "    global idx_servo_vert2, speed_motor\n",
    "    global degree_vert2, dir\n",
    "    degree_vert2 = check_in_range(degree + degree_vert2)\n",
    "    TTLServo.servoAngleCtrl(idx_servo_vert2, degree_vert2, dir, speed_motor)\n",
    "    \n",
    "def control_grip(degree):\n",
    "    global idx_servo_grip, speed_motor\n",
    "    global degree_grip, dir\n",
    "    degree_grip = check_in_range(degree + degree_grip)\n",
    "    TTLServo.servoAngleCtrl(idx_servo_grip, degree_grip, dir, speed_motor)\n",
    "\n",
    "def control_camera(degree):\n",
    "    global idx_servo_camera, speed_motor\n",
    "    global degree_camera, dir\n",
    "    degree_camera = check_in_range(degree + degree_camera)\n",
    "    print(degree_camera)\n",
    "    TTLServo.servoAngleCtrl(idx_servo_camera, degree_camera, dir, speed_motor)"
   ]
  },
  {
   "cell_type": "code",
   "execution_count": 79,
   "metadata": {},
   "outputs": [],
   "source": [
    "# @type is whether staying grip or release\n",
    "def init(type=True):\n",
    "    global idx_servo_hori, idx_servo_vert1, idx_servo_vert2, idx_servo_grip, idx_servo_camera, speed_motor\n",
    "    global degree_hori, degree_vert1, degree_vert2, degree_grip, degree_camera, dir\n",
    "    degree_hori = -8\n",
    "    degree_vert1 = 0\n",
    "    degree_vert2 = 0\n",
    "    degree_grip = -8\n",
    "    degree_camera = 0\n",
    "    TTLServo.servoAngleCtrl(idx_servo_hori, degree_hori, dir, speed_motor)\n",
    "    TTLServo.servoAngleCtrl(idx_servo_vert1, degree_vert1, dir, speed_motor)\n",
    "    TTLServo.servoAngleCtrl(idx_servo_vert2, degree_vert2, dir, speed_motor)\n",
    "    if type:\n",
    "        TTLServo.servoAngleCtrl(idx_servo_grip, degree_grip, dir, speed_motor)\n",
    "    TTLServo.servoAngleCtrl(idx_servo_camera, degree_camera, dir, speed_motor)"
   ]
  },
  {
   "cell_type": "code",
   "execution_count": 80,
   "metadata": {},
   "outputs": [],
   "source": [
    "init()"
   ]
  },
  {
   "cell_type": "code",
   "execution_count": 12,
   "metadata": {},
   "outputs": [],
   "source": [
    "PT_layout = widgets.Layout(width='100px', height='80px', align_self='center')"
   ]
  },
  {
   "cell_type": "code",
   "execution_count": 39,
   "metadata": {},
   "outputs": [
    {
     "data": {
      "application/vnd.jupyter.widget-view+json": {
       "model_id": "7c8ea064bb304daca109b8512f0e36d1",
       "version_major": 2,
       "version_minor": 0
      },
      "text/plain": [
       "VBox(children=(HBox(children=(Button(button_style='success', description='LookUp', layout=Layout(align_self='c…"
      ]
     },
     "metadata": {},
     "output_type": "display_data"
    }
   ],
   "source": [
    "cameraUp_button = widgets.Button(description='LookUp', button_style='success', layout=PT_layout)\n",
    "cameraDown_button = widgets.Button(description='LookDown', button_style='success', layout=PT_layout)\n",
    "cameraUp_button.on_click(lambda x: control_camera(degree_motor))\n",
    "cameraDown_button.on_click(lambda x: control_camera(-1 * degree_motor))\n",
    "\n",
    "bodyLeft_button = widgets.Button(description='LookLeft', button_style='success', layout=PT_layout)\n",
    "bodyRight_button = widgets.Button(description='LookRight', button_style='success', layout=PT_layout)\n",
    "bodyLeft_button.on_click(lambda x: control_horizontal(degree_motor))\n",
    "bodyRight_button.on_click(lambda x: control_horizontal(-1 * degree_motor))\n",
    "\n",
    "grap_button = widgets.Button(description='Grap', button_style='success', layout=PT_layout)\n",
    "Release_button = widgets.Button(description='Release', button_style='success', layout=PT_layout)\n",
    "grap_button.on_click(lambda x: control_grip(degree_motor))\n",
    "Release_button.on_click(lambda x: control_grip(-1 * degree_motor))\n",
    "\n",
    "vert1Up_button = widgets.Button(description='Vert1 Up', button_style='success', layout=PT_layout)\n",
    "vert1Down_button = widgets.Button(description='Vert1 Down', button_style='success', layout=PT_layout)\n",
    "vert1Up_button.on_click(lambda x: control_vertical1(degree_motor))\n",
    "vert1Down_button.on_click(lambda x: control_vertical1(-1 * degree_motor))\n",
    "\n",
    "vert2Up_button = widgets.Button(description='Vert2 Up', button_style='success', layout=PT_layout)\n",
    "vert2Down_button = widgets.Button(description='Vert2 Down', button_style='success', layout=PT_layout)\n",
    "vert2Up_button.on_click(lambda x: control_vertical2(-1 * degree_motor))\n",
    "vert2Down_button.on_click(lambda x: control_vertical2(degree_motor))\n",
    "\n",
    "topBtn_box = widgets.HBox([cameraUp_button, bodyLeft_button, grap_button, vert1Up_button, vert2Up_button], layout=widgets.Layout(align_self='center'))\n",
    "bottomBtn_box = widgets.HBox([cameraDown_button, bodyRight_button, Release_button, vert1Down_button, vert2Down_button], layout=widgets.Layout(align_self='center'))\n",
    "surPT_box = widgets.VBox([topBtn_box, bottomBtn_box, degree_slider])\n",
    "\n",
    "display(surPT_box)"
   ]
  },
  {
   "cell_type": "code",
   "execution_count": 14,
   "metadata": {},
   "outputs": [],
   "source": [
    "robot = Robot()"
   ]
  },
  {
   "cell_type": "code",
   "execution_count": 38,
   "metadata": {},
   "outputs": [],
   "source": [
    "def stop(change):\n",
    "    robot.stop()\n",
    "    \n",
    "def step_forward(change):\n",
    "    robot.forward(0.4)\n",
    "    time.sleep(0.5)\n",
    "    robot.stop()\n",
    "\n",
    "def step_backward(change):\n",
    "    robot.backward(0.4)\n",
    "    time.sleep(0.5)\n",
    "    robot.stop()\n",
    "\n",
    "def step_left(change):\n",
    "    robot.left(0.3)\n",
    "    time.sleep(0.5)\n",
    "    robot.stop()\n",
    "\n",
    "def step_right(change):\n",
    "    robot.right(0.3)\n",
    "    time.sleep(0.5)\n",
    "    robot.stop()"
   ]
  },
  {
   "cell_type": "code",
   "execution_count": 37,
   "metadata": {},
   "outputs": [
    {
     "data": {
      "application/vnd.jupyter.widget-view+json": {
       "model_id": "5711ac849da147c19804046b41ffe1ee",
       "version_major": 2,
       "version_minor": 0
      },
      "text/plain": [
       "VBox(children=(Button(description='forward', layout=Layout(align_self='center', height='80px', width='100px'),…"
      ]
     },
     "metadata": {},
     "output_type": "display_data"
    }
   ],
   "source": [
    "# define move buttons\n",
    "button_layout = widgets.Layout(width='100px', height='80px', align_self='center')\n",
    "stop_button = widgets.Button(description='stop', button_style='danger', layout=button_layout)\n",
    "forward_button = widgets.Button(description='forward', layout=button_layout)\n",
    "backward_button = widgets.Button(description='backward', layout=button_layout)\n",
    "left_button = widgets.Button(description='left', layout=button_layout)\n",
    "right_button = widgets.Button(description='right', layout=button_layout)\n",
    "\n",
    "# link buttons to actions\n",
    "stop_button.on_click(stop)\n",
    "forward_button.on_click(step_forward)\n",
    "backward_button.on_click(step_backward)\n",
    "left_button.on_click(step_left)\n",
    "right_button.on_click(step_right)\n",
    "\n",
    "# display buttons\n",
    "middle_box = widgets.HBox([left_button, stop_button, right_button], layout=widgets.Layout(align_self='center'))\n",
    "controls_box = widgets.VBox([forward_button, middle_box, backward_button])\n",
    "display(controls_box)"
   ]
  },
  {
   "cell_type": "code",
   "execution_count": 82,
   "metadata": {},
   "outputs": [
    {
     "name": "stdout",
     "output_type": "stream",
     "text": [
      "0\n",
      "-8\n",
      "0\n",
      "0\n",
      "-8\n"
     ]
    }
   ],
   "source": [
    "print(degree_camera)\n",
    "print(degree_hori) \n",
    "print(degree_vert1)\n",
    "print(degree_vert2)\n",
    "print(degree_grip) "
   ]
  },
  {
   "cell_type": "code",
   "execution_count": 87,
   "metadata": {},
   "outputs": [],
   "source": [
    "init()"
   ]
  },
  {
   "cell_type": "code",
   "execution_count": 85,
   "metadata": {},
   "outputs": [],
   "source": [
    "control_vertical1(-73)\n",
    "control_vertical2(-44)"
   ]
  },
  {
   "cell_type": "code",
   "execution_count": 86,
   "metadata": {},
   "outputs": [],
   "source": [
    "while True:\n",
    "    if degree_vert1 == -73 and degree_vert2 == -44:\n",
    "        control_grip(27)\n",
    "        init(False)\n",
    "        break"
   ]
  }
 ],
 "metadata": {
  "kernelspec": {
   "display_name": "Python 3",
   "language": "python",
   "name": "python3"
  },
  "language_info": {
   "codemirror_mode": {
    "name": "ipython",
    "version": 3
   },
   "file_extension": ".py",
   "mimetype": "text/x-python",
   "name": "python",
   "nbconvert_exporter": "python",
   "pygments_lexer": "ipython3",
   "version": "3.6.9"
  }
 },
 "nbformat": 4,
 "nbformat_minor": 4
}
